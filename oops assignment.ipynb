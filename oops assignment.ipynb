{
 "cells": [
  {
   "cell_type": "markdown",
   "id": "669cd596-2518-41cb-a4e2-ae8f807e940d",
   "metadata": {},
   "source": [
    "Answer No.1 -->"
   ]
  },
  {
   "cell_type": "markdown",
   "id": "1d7e9e77-ca18-4d77-b597-4b2076eb84d5",
   "metadata": {},
   "source": [
    "Classes are collection of objects and are mainly used to divide the work in diffrent pieces. for example: in web d there is a front-end and a back-end developer so with help of classes we can make seprate classes for front-end and for back-end so that information/code can be stored in a precise way. With the help of that , information/code can't be mixed we can store one-type of information in only one class."
   ]
  },
  {
   "cell_type": "code",
   "execution_count": 11,
   "id": "dff2b2af-42fc-401b-88ee-cda1f8253da3",
   "metadata": {},
   "outputs": [],
   "source": [
    "class front_end:\n",
    "    def front_end_info(self) :\n",
    "        return \"Here you will find information related to front-end development\""
   ]
  },
  {
   "cell_type": "code",
   "execution_count": 12,
   "id": "51e0e2a4-588d-42c9-9046-df596556fb12",
   "metadata": {},
   "outputs": [],
   "source": [
    "class back_end:\n",
    "    def back_end_info(self) :\n",
    "        return \"Here you will find information related to back-end development\""
   ]
  },
  {
   "cell_type": "markdown",
   "id": "3628b8fb-e0a5-4104-844f-68ac0c722f0c",
   "metadata": {},
   "source": [
    "Objects are the instance of classes or we can say it is a variable. There may be a different objects for a single class, objects are the real world entity but class is not a real world entity. object may be place , name , person etc."
   ]
  },
  {
   "cell_type": "code",
   "execution_count": 13,
   "id": "7ae63cc7-8414-4aa3-8d4d-19d1f0f62c4f",
   "metadata": {},
   "outputs": [],
   "source": [
    "obj_fe = front_end()"
   ]
  },
  {
   "cell_type": "code",
   "execution_count": 14,
   "id": "e859c300-5266-47fe-855c-626b50244fb2",
   "metadata": {},
   "outputs": [
    {
     "data": {
      "text/plain": [
       "'Here you will find information related to front-end development'"
      ]
     },
     "execution_count": 14,
     "metadata": {},
     "output_type": "execute_result"
    }
   ],
   "source": [
    "obj_fe.front_end_info()"
   ]
  },
  {
   "cell_type": "code",
   "execution_count": 15,
   "id": "751085b8-1229-482d-a8af-c5c7d9564f06",
   "metadata": {},
   "outputs": [],
   "source": [
    "obj_be = back_end()"
   ]
  },
  {
   "cell_type": "code",
   "execution_count": 16,
   "id": "fcd18ddb-9e2a-4420-a9b2-b424e445de61",
   "metadata": {},
   "outputs": [
    {
     "data": {
      "text/plain": [
       "'Here you will find information related to back-end development'"
      ]
     },
     "execution_count": 16,
     "metadata": {},
     "output_type": "execute_result"
    }
   ],
   "source": [
    "obj_be.back_end_info()"
   ]
  },
  {
   "cell_type": "markdown",
   "id": "b10c9871-b5b3-4885-97c0-30526324bf33",
   "metadata": {},
   "source": [
    "Answer No.2 -->"
   ]
  },
  {
   "cell_type": "markdown",
   "id": "c22e88a6-821c-4a9e-8d22-ced58eebd4f1",
   "metadata": {},
   "source": [
    "1.) polymorphism"
   ]
  },
  {
   "cell_type": "markdown",
   "id": "d87a9b96-93f3-4fcf-9ed0-dc643adf125a",
   "metadata": {},
   "source": [
    "2.) inheritance"
   ]
  },
  {
   "cell_type": "markdown",
   "id": "80d48062-a1af-41d7-9327-f43c141a3dc0",
   "metadata": {},
   "source": [
    "3.) Encapsulation"
   ]
  },
  {
   "cell_type": "markdown",
   "id": "ed694053-4de3-4592-978b-222dab31db0a",
   "metadata": {},
   "source": [
    "4.) Abstraction"
   ]
  },
  {
   "cell_type": "markdown",
   "id": "1b127b83-bd78-4f03-a886-03bf205f72c2",
   "metadata": {},
   "source": [
    "Answer No. 3 -->"
   ]
  },
  {
   "cell_type": "markdown",
   "id": "be1e2527-0431-4e1e-b42a-a1ac510318b4",
   "metadata": {},
   "source": [
    "__init__ is a constructor function. It is used because with help of this we can construct or we given our own inputs in classes. and it can take this inputs and with the help of function it can return these inputs.. It is also said to be a dunder function. for example->"
   ]
  },
  {
   "cell_type": "code",
   "execution_count": 20,
   "id": "1e78b694-cca4-4531-9c60-600db1bf4fb2",
   "metadata": {},
   "outputs": [],
   "source": [
    "class student_details:\n",
    "    \n",
    "    def __init__(self , name , age , student_id) :\n",
    "        self.name = name\n",
    "        self.age = age\n",
    "        self.student_id = student_id\n",
    "        \n",
    "    def return_details(self) :\n",
    "        return self.name , self.age , self.student_id"
   ]
  },
  {
   "cell_type": "code",
   "execution_count": 21,
   "id": "affe8657-3ba7-4605-8e45-74b8060cbe5f",
   "metadata": {},
   "outputs": [],
   "source": [
    "obj = student_details('Mohil' , 20 , 102)"
   ]
  },
  {
   "cell_type": "code",
   "execution_count": 22,
   "id": "f54176af-4510-4615-8f33-2e3ffeb38471",
   "metadata": {},
   "outputs": [
    {
     "data": {
      "text/plain": [
       "('Mohil', 20, 102)"
      ]
     },
     "execution_count": 22,
     "metadata": {},
     "output_type": "execute_result"
    }
   ],
   "source": [
    "obj.return_details()"
   ]
  },
  {
   "cell_type": "code",
   "execution_count": 23,
   "id": "52e904c4-89dd-442c-a568-97b0e79ccea1",
   "metadata": {},
   "outputs": [
    {
     "data": {
      "text/plain": [
       "'Mohil'"
      ]
     },
     "execution_count": 23,
     "metadata": {},
     "output_type": "execute_result"
    }
   ],
   "source": [
    "obj.name"
   ]
  },
  {
   "cell_type": "code",
   "execution_count": 24,
   "id": "0bd2ca99-83b6-41ac-a658-4280cec50dda",
   "metadata": {},
   "outputs": [
    {
     "data": {
      "text/plain": [
       "20"
      ]
     },
     "execution_count": 24,
     "metadata": {},
     "output_type": "execute_result"
    }
   ],
   "source": [
    "obj.age"
   ]
  },
  {
   "cell_type": "code",
   "execution_count": 25,
   "id": "607710ec-18eb-4e56-9e7f-fdcf4eb7e7cb",
   "metadata": {},
   "outputs": [
    {
     "data": {
      "text/plain": [
       "102"
      ]
     },
     "execution_count": 25,
     "metadata": {},
     "output_type": "execute_result"
    }
   ],
   "source": [
    "obj.student_id"
   ]
  },
  {
   "cell_type": "markdown",
   "id": "8e654d32-b361-4844-adc4-a1f3ebec7a15",
   "metadata": {},
   "source": [
    "Answer No. 4 -->"
   ]
  },
  {
   "cell_type": "markdown",
   "id": "a0dfbc29-da9f-4334-a2d3-3e16326fc287",
   "metadata": {},
   "source": [
    "self is used for providing the reference to the given class. And also used for pointing that function that it is present inside the class. If we can't used self inside the function within some class then object of that class doesn't able to access that function oe when we can call it It shows error. for ex-->"
   ]
  },
  {
   "cell_type": "code",
   "execution_count": 27,
   "id": "63c9975d-4adb-4dcd-ac4c-df2b0e502dd0",
   "metadata": {},
   "outputs": [],
   "source": [
    "class pwskills:\n",
    "    \n",
    "    def details():\n",
    "        return \"This is my details.\""
   ]
  },
  {
   "cell_type": "code",
   "execution_count": 28,
   "id": "c78b3811-4afd-46c1-8936-759c6ddfb436",
   "metadata": {},
   "outputs": [],
   "source": [
    "pws = pwskills()"
   ]
  },
  {
   "cell_type": "code",
   "execution_count": 29,
   "id": "c47e43f2-54a4-4812-96d0-89687fbfc04a",
   "metadata": {},
   "outputs": [
    {
     "ename": "TypeError",
     "evalue": "pwskills.details() takes 0 positional arguments but 1 was given",
     "output_type": "error",
     "traceback": [
      "\u001b[0;31m---------------------------------------------------------------------------\u001b[0m",
      "\u001b[0;31mTypeError\u001b[0m                                 Traceback (most recent call last)",
      "Cell \u001b[0;32mIn[29], line 1\u001b[0m\n\u001b[0;32m----> 1\u001b[0m \u001b[43mpws\u001b[49m\u001b[38;5;241;43m.\u001b[39;49m\u001b[43mdetails\u001b[49m\u001b[43m(\u001b[49m\u001b[43m)\u001b[49m\n",
      "\u001b[0;31mTypeError\u001b[0m: pwskills.details() takes 0 positional arguments but 1 was given"
     ]
    }
   ],
   "source": [
    "pws.details()"
   ]
  },
  {
   "cell_type": "markdown",
   "id": "7e3beafc-a3a5-4c73-b058-3dd412c0ec46",
   "metadata": {},
   "source": [
    "Answer No. 5 -->"
   ]
  },
  {
   "cell_type": "markdown",
   "id": "b1aada57-a7ad-4913-bb04-83345aa56782",
   "metadata": {},
   "source": [
    "Inheritance is a phenonmenon in which property of one class is get inherits by another class. Class whose properties got inherited is called parent class and the class who inherits the properties are called child class. Inheritance can help in code reusability."
   ]
  },
  {
   "cell_type": "code",
   "execution_count": 2,
   "id": "13509f73-962c-4010-9a7c-991fedf508e3",
   "metadata": {},
   "outputs": [],
   "source": [
    "#single inheritance\n",
    "\n",
    "class parent:\n",
    "    \n",
    "    def info(self) :\n",
    "        return \"Hello\""
   ]
  },
  {
   "cell_type": "code",
   "execution_count": 3,
   "id": "3bd246fa-4764-4d98-b815-9575ae8de365",
   "metadata": {},
   "outputs": [],
   "source": [
    "class child(parent):\n",
    "    \n",
    "    def give_details(self) :\n",
    "        pass"
   ]
  },
  {
   "cell_type": "code",
   "execution_count": 4,
   "id": "cd85567e-1bc1-481c-a968-47ba6bc32983",
   "metadata": {},
   "outputs": [],
   "source": [
    "obj = child()"
   ]
  },
  {
   "cell_type": "code",
   "execution_count": 6,
   "id": "8d7dedf5-9d87-47f6-81a8-9e1ed9e73ced",
   "metadata": {},
   "outputs": [
    {
     "data": {
      "text/plain": [
       "'Hello'"
      ]
     },
     "execution_count": 6,
     "metadata": {},
     "output_type": "execute_result"
    }
   ],
   "source": [
    "obj.info()"
   ]
  },
  {
   "cell_type": "code",
   "execution_count": 7,
   "id": "52e58e05-da1b-42d2-96d7-bd0bff80e1ab",
   "metadata": {},
   "outputs": [],
   "source": [
    "# MUlti-level Inheritance \n",
    "\n",
    "class parent:\n",
    "    \n",
    "    def info(self) :\n",
    "        return \"Hello\"\n",
    "\n",
    "class child(parent):\n",
    "    \n",
    "    def give_details(self) :\n",
    "        return \"World\"\n",
    "\n",
    "class sub_child(child):\n",
    "    \n",
    "    def provide(self) :\n",
    "        pass\n"
   ]
  },
  {
   "cell_type": "code",
   "execution_count": 8,
   "id": "f4e75492-b138-4cff-b4a7-e001376e1870",
   "metadata": {},
   "outputs": [],
   "source": [
    "obj = sub_child()"
   ]
  },
  {
   "cell_type": "code",
   "execution_count": 9,
   "id": "c6a4b0b9-8872-4053-8124-2931dc89d656",
   "metadata": {},
   "outputs": [
    {
     "data": {
      "text/plain": [
       "'World'"
      ]
     },
     "execution_count": 9,
     "metadata": {},
     "output_type": "execute_result"
    }
   ],
   "source": [
    "obj.give_details()"
   ]
  },
  {
   "cell_type": "code",
   "execution_count": 10,
   "id": "9e924980-2dc0-4727-b775-c4f6f59717dc",
   "metadata": {},
   "outputs": [
    {
     "data": {
      "text/plain": [
       "'Hello'"
      ]
     },
     "execution_count": 10,
     "metadata": {},
     "output_type": "execute_result"
    }
   ],
   "source": [
    "obj.info()"
   ]
  },
  {
   "cell_type": "code",
   "execution_count": 11,
   "id": "59f8e7db-2398-4c32-bd99-fca1907e65a6",
   "metadata": {},
   "outputs": [],
   "source": [
    "# Multiple Inheritance \n",
    "\n",
    "class parent_1:\n",
    "    \n",
    "    def info(self) :\n",
    "        return \"Hello\"\n",
    "\n",
    "class parent_2():\n",
    "    \n",
    "    def give_details(self) :\n",
    "        return \"World\"\n",
    "    \n",
    "class child(parent_1 , parent_2):\n",
    "    \n",
    "    def child_function(self) :\n",
    "        pass"
   ]
  },
  {
   "cell_type": "code",
   "execution_count": 12,
   "id": "e7cb8c5b-9059-4465-a7cc-ef751b469baf",
   "metadata": {},
   "outputs": [],
   "source": [
    "obj = child()"
   ]
  },
  {
   "cell_type": "code",
   "execution_count": 13,
   "id": "e7f99a73-26d2-428d-9939-2cedd2be8d5a",
   "metadata": {},
   "outputs": [
    {
     "data": {
      "text/plain": [
       "'World'"
      ]
     },
     "execution_count": 13,
     "metadata": {},
     "output_type": "execute_result"
    }
   ],
   "source": [
    "obj.give_details()"
   ]
  },
  {
   "cell_type": "code",
   "execution_count": 14,
   "id": "4d21280b-cf24-4b88-9698-2fafd8146bd4",
   "metadata": {},
   "outputs": [
    {
     "data": {
      "text/plain": [
       "'Hello'"
      ]
     },
     "execution_count": 14,
     "metadata": {},
     "output_type": "execute_result"
    }
   ],
   "source": [
    "obj.info()"
   ]
  },
  {
   "cell_type": "code",
   "execution_count": null,
   "id": "c74a952e-dbb3-4576-9bf5-cbc685bd5d0e",
   "metadata": {},
   "outputs": [],
   "source": []
  }
 ],
 "metadata": {
  "kernelspec": {
   "display_name": "Python 3 (ipykernel)",
   "language": "python",
   "name": "python3"
  },
  "language_info": {
   "codemirror_mode": {
    "name": "ipython",
    "version": 3
   },
   "file_extension": ".py",
   "mimetype": "text/x-python",
   "name": "python",
   "nbconvert_exporter": "python",
   "pygments_lexer": "ipython3",
   "version": "3.10.8"
  }
 },
 "nbformat": 4,
 "nbformat_minor": 5
}
