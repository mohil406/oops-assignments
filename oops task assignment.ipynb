{
 "cells": [
  {
   "cell_type": "markdown",
   "id": "b5be9685-06b9-495e-bc6f-fb74c818ab5c",
   "metadata": {},
   "source": [
    "Answer No.1 -->"
   ]
  },
  {
   "cell_type": "code",
   "execution_count": 2,
   "id": "e4a561e1-77f3-4772-aeb1-adac6af17216",
   "metadata": {},
   "outputs": [],
   "source": [
    "class vehicle:\n",
    "    \n",
    "    def __init__(self , name_of_vehicle , max_speed , average_of_vehicle) :\n",
    "        self.name_of_vehicle1 = name_of_vehicle\n",
    "        self.max_speed1 = max_speed\n",
    "        self.average_of_vehicle1 = average_of_vehicle\n",
    "    \n",
    "    def give_details(self) :\n",
    "        return  self.average_of_vehicle1 , self.max_speed1 , self.name_of_vehicle1"
   ]
  },
  {
   "cell_type": "code",
   "execution_count": 25,
   "id": "927affe1-7a6a-4df9-bd0d-3cfbb47bd34e",
   "metadata": {},
   "outputs": [],
   "source": [
    "car = vehicle('Thar' , 120 , 20)"
   ]
  },
  {
   "cell_type": "code",
   "execution_count": 27,
   "id": "1296bb07-31b0-48af-958d-542f3fdba106",
   "metadata": {},
   "outputs": [
    {
     "data": {
      "text/plain": [
       "20"
      ]
     },
     "execution_count": 27,
     "metadata": {},
     "output_type": "execute_result"
    }
   ],
   "source": [
    "car.average_of_vehicle1"
   ]
  },
  {
   "cell_type": "code",
   "execution_count": 28,
   "id": "b57bdf38-785a-418a-a797-8ba38a4b285d",
   "metadata": {},
   "outputs": [
    {
     "data": {
      "text/plain": [
       "120"
      ]
     },
     "execution_count": 28,
     "metadata": {},
     "output_type": "execute_result"
    }
   ],
   "source": [
    "car.max_speed1"
   ]
  },
  {
   "cell_type": "code",
   "execution_count": 29,
   "id": "c5d79bec-88f3-4b98-87b7-797d4efcc96a",
   "metadata": {},
   "outputs": [
    {
     "data": {
      "text/plain": [
       "'Thar'"
      ]
     },
     "execution_count": 29,
     "metadata": {},
     "output_type": "execute_result"
    }
   ],
   "source": [
    "car.name_of_vehicle1"
   ]
  },
  {
   "cell_type": "code",
   "execution_count": 30,
   "id": "48f91d23-de66-4d2c-b141-a0865397091c",
   "metadata": {},
   "outputs": [
    {
     "data": {
      "text/plain": [
       "(20, 120, 'Thar')"
      ]
     },
     "execution_count": 30,
     "metadata": {},
     "output_type": "execute_result"
    }
   ],
   "source": [
    "car.give_details()"
   ]
  },
  {
   "cell_type": "markdown",
   "id": "333df5e5-5bae-45d8-99ac-9a927273fdcf",
   "metadata": {},
   "source": [
    "Answer No.3 ->"
   ]
  },
  {
   "cell_type": "code",
   "execution_count": 1,
   "id": "9062a43e-85e3-4735-98da-5db46ebc9ba9",
   "metadata": {},
   "outputs": [],
   "source": [
    "class class_1:\n",
    "    \n",
    "    def test_1(self) :\n",
    "        return \"This my first class!\""
   ]
  },
  {
   "cell_type": "code",
   "execution_count": 11,
   "id": "6d4cca70-dfe7-4d73-8900-4b6deff597b2",
   "metadata": {},
   "outputs": [],
   "source": [
    "class class_2:\n",
    "    \n",
    "    def test_2(self) :\n",
    "        return \"This my second class!\""
   ]
  },
  {
   "cell_type": "code",
   "execution_count": 12,
   "id": "933647b9-08af-4d77-8cca-5f8bf971813c",
   "metadata": {},
   "outputs": [],
   "source": [
    "class class_3(class_1 , class_2):\n",
    "    pass"
   ]
  },
  {
   "cell_type": "code",
   "execution_count": 13,
   "id": "f6de997a-b0a1-43ba-8cc6-632c4926cfd7",
   "metadata": {},
   "outputs": [],
   "source": [
    "obj = class_3()"
   ]
  },
  {
   "cell_type": "code",
   "execution_count": 14,
   "id": "9b950ecd-e273-40d0-91c7-b6ba3d2b59ea",
   "metadata": {},
   "outputs": [
    {
     "data": {
      "text/plain": [
       "'This my first class!'"
      ]
     },
     "execution_count": 14,
     "metadata": {},
     "output_type": "execute_result"
    }
   ],
   "source": [
    "obj.test_1()"
   ]
  },
  {
   "cell_type": "code",
   "execution_count": 15,
   "id": "9b6e2ffb-02f7-43dd-aa51-01487b7f8dc7",
   "metadata": {},
   "outputs": [
    {
     "data": {
      "text/plain": [
       "'This my second class!'"
      ]
     },
     "execution_count": 15,
     "metadata": {},
     "output_type": "execute_result"
    }
   ],
   "source": [
    "obj.test_2()"
   ]
  },
  {
   "cell_type": "markdown",
   "id": "4516ce31-8b0a-4abe-b98a-77c46efcceb9",
   "metadata": {},
   "source": [
    "Answer No.4 -->"
   ]
  },
  {
   "cell_type": "markdown",
   "id": "7ea8faf2-cffc-4271-b3bc-182bb0606c65",
   "metadata": {},
   "source": [
    "getter method is used to get the updated value instance that we provided in our class.\n"
   ]
  },
  {
   "cell_type": "markdown",
   "id": "76ca7f7b-4db9-45b8-ab2c-fd4885b8de48",
   "metadata": {},
   "source": [
    "setter method is used to set or change or update value of instance that we provided in our class. And we access that updated value with help of getter method.."
   ]
  },
  {
   "cell_type": "code",
   "execution_count": 17,
   "id": "144191e6-93cc-4a9d-b6de-c1078b51fda9",
   "metadata": {},
   "outputs": [],
   "source": [
    "class car_company:\n",
    "    \n",
    "    def __init__(self , year , speed , color) :\n",
    "        self.speed = 0\n",
    "        self.year = year\n",
    "        self.color = color\n",
    "        \n",
    "    def set_speed(self , speed) :\n",
    "        self.speed = 0 if speed < 0 else speed\n",
    "        \n",
    "    def get_speed(self) :\n",
    "        return self.speed"
   ]
  },
  {
   "cell_type": "code",
   "execution_count": 19,
   "id": "d0fcf050-b222-447e-a4a2-7c7dfe07b072",
   "metadata": {},
   "outputs": [],
   "source": [
    "obj = car_company(2021 , 20 , 'white')"
   ]
  },
  {
   "cell_type": "code",
   "execution_count": 20,
   "id": "2a3cc878-3805-408d-9e55-769e95258749",
   "metadata": {},
   "outputs": [],
   "source": [
    "obj.set_speed(40)"
   ]
  },
  {
   "cell_type": "code",
   "execution_count": 21,
   "id": "ce2e648d-2ca6-4759-b636-214f6eb59511",
   "metadata": {},
   "outputs": [
    {
     "data": {
      "text/plain": [
       "40"
      ]
     },
     "execution_count": 21,
     "metadata": {},
     "output_type": "execute_result"
    }
   ],
   "source": [
    "obj.get_speed()"
   ]
  },
  {
   "cell_type": "markdown",
   "id": "aa0581b6-4cef-419a-b9ff-878da04f78a2",
   "metadata": {},
   "source": [
    "here we clearly see that set the speed to 40 and when we call get_speed function we get that value 40."
   ]
  },
  {
   "cell_type": "markdown",
   "id": "c9f550d3-b560-4390-ba62-14395e76c02f",
   "metadata": {},
   "source": [
    "Answer No. 2 -->"
   ]
  },
  {
   "cell_type": "code",
   "execution_count": 10,
   "id": "841739ce-ae6e-4417-be71-33d1801c0afc",
   "metadata": {},
   "outputs": [],
   "source": [
    "class car(vehicle):\n",
    "    \n",
    "    def seating_capacity(self , capacity) :\n",
    "        return capacity , self.name_of_vehicle1 "
   ]
  },
  {
   "cell_type": "code",
   "execution_count": 11,
   "id": "0f852231-67bf-4b0e-af33-ff30d166f407",
   "metadata": {},
   "outputs": [],
   "source": [
    "Car = car('thar' , 120 , 25)"
   ]
  },
  {
   "cell_type": "code",
   "execution_count": 12,
   "id": "7dd4ca81-8d78-4558-b4f7-d452b69d2744",
   "metadata": {},
   "outputs": [
    {
     "data": {
      "text/plain": [
       "(8, 'thar')"
      ]
     },
     "execution_count": 12,
     "metadata": {},
     "output_type": "execute_result"
    }
   ],
   "source": [
    "Car.seating_capacity(8)"
   ]
  },
  {
   "cell_type": "markdown",
   "id": "514d278f-1603-489f-9d66-67b0d2153519",
   "metadata": {},
   "source": [
    "Answer No.5 -->"
   ]
  },
  {
   "cell_type": "markdown",
   "id": "ae6ff12b-c126-4e78-8173-70a9201ba03c",
   "metadata": {},
   "source": [
    "Method overriding is define as both parent and child class should contain's same method with same name, arguments as well as return value and child class inherits properties of parent class then we say that child class overriden parent class.\n",
    "For example :->"
   ]
  },
  {
   "cell_type": "code",
   "execution_count": 14,
   "id": "d6d52df1-230e-411c-a01a-0a15f485b32a",
   "metadata": {},
   "outputs": [],
   "source": [
    "class parent:\n",
    "    \n",
    "    def __init__(self):\n",
    "        self.value = \"inside parent class\"\n",
    "        \n",
    "    def show(self) :\n",
    "        print(self.value)"
   ]
  },
  {
   "cell_type": "code",
   "execution_count": 15,
   "id": "5b5372b4-0ede-42bf-933e-994accc02e1e",
   "metadata": {},
   "outputs": [],
   "source": [
    "class child(parent):\n",
    "    \n",
    "    def __init__(self):\n",
    "        self.value = \"Inside child class\"\n",
    "        \n",
    "    def show(self):\n",
    "        print(self.value)"
   ]
  },
  {
   "cell_type": "code",
   "execution_count": 16,
   "id": "84679dde-4783-4799-aeb6-dbbf93961c61",
   "metadata": {},
   "outputs": [],
   "source": [
    "obj = child()"
   ]
  },
  {
   "cell_type": "code",
   "execution_count": 18,
   "id": "ef34e2fd-05ec-45ed-9454-b8552daefff0",
   "metadata": {},
   "outputs": [
    {
     "name": "stdout",
     "output_type": "stream",
     "text": [
      "Inside child class\n"
     ]
    }
   ],
   "source": [
    "obj.show()"
   ]
  },
  {
   "cell_type": "code",
   "execution_count": null,
   "id": "d33ee62c-0efd-4bb6-bbba-e856c5038d51",
   "metadata": {},
   "outputs": [],
   "source": [
    "o"
   ]
  }
 ],
 "metadata": {
  "kernelspec": {
   "display_name": "Python 3 (ipykernel)",
   "language": "python",
   "name": "python3"
  },
  "language_info": {
   "codemirror_mode": {
    "name": "ipython",
    "version": 3
   },
   "file_extension": ".py",
   "mimetype": "text/x-python",
   "name": "python",
   "nbconvert_exporter": "python",
   "pygments_lexer": "ipython3",
   "version": "3.10.8"
  }
 },
 "nbformat": 4,
 "nbformat_minor": 5
}
